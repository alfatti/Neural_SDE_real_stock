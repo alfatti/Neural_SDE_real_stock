{
  "cells": [
    {
      "cell_type": "markdown",
      "metadata": {
        "id": "view-in-github",
        "colab_type": "text"
      },
      "source": [
        "<a href=\"https://colab.research.google.com/github/a19c97/AST-Neural_SDE/blob/main/train_on_daily_SP_all.ipynb\" target=\"_parent\"><img src=\"https://colab.research.google.com/assets/colab-badge.svg\" alt=\"Open In Colab\"/></a>"
      ]
    },
    {
      "cell_type": "markdown",
      "source": [
        "# Train the Neural SDE on  log-return time series of S&P(2007-2022)"
      ],
      "metadata": {
        "id": "sljjeyKdDrfr"
      },
      "id": "sljjeyKdDrfr"
    },
    {
      "cell_type": "code",
      "execution_count": null,
      "id": "8fff9f0c",
      "metadata": {
        "colab": {
          "base_uri": "https://localhost:8080/"
        },
        "id": "8fff9f0c",
        "outputId": "e0b8caa6-3cac-496e-f41e-aba0ba60fcbc"
      },
      "outputs": [
        {
          "output_type": "stream",
          "name": "stdout",
          "text": [
            "Looking in indexes: https://pypi.org/simple, https://us-python.pkg.dev/colab-wheels/public/simple/\n",
            "Collecting fire\n",
            "  Downloading fire-0.4.0.tar.gz (87 kB)\n",
            "\u001b[K     |████████████████████████████████| 87 kB 3.3 MB/s \n",
            "\u001b[?25hRequirement already satisfied: six in /usr/local/lib/python3.7/dist-packages (from fire) (1.15.0)\n",
            "Requirement already satisfied: termcolor in /usr/local/lib/python3.7/dist-packages (from fire) (2.0.1)\n",
            "Building wheels for collected packages: fire\n",
            "  Building wheel for fire (setup.py) ... \u001b[?25l\u001b[?25hdone\n",
            "  Created wheel for fire: filename=fire-0.4.0-py2.py3-none-any.whl size=115942 sha256=5d455fc742d747a05bf46ce96a349b826a0bd63dd1d9ab5bc1bca6b0db72ec5d\n",
            "  Stored in directory: /root/.cache/pip/wheels/8a/67/fb/2e8a12fa16661b9d5af1f654bd199366799740a85c64981226\n",
            "Successfully built fire\n",
            "Installing collected packages: fire\n",
            "Successfully installed fire-0.4.0\n"
          ]
        }
      ],
      "source": [
        "!pip install fire\n"
      ]
    },
    {
      "cell_type": "code",
      "source": [
        "!pip install git+https://github.com/patrick-kidger/torchcde.git\n"
      ],
      "metadata": {
        "colab": {
          "base_uri": "https://localhost:8080/"
        },
        "id": "gxClFbKMeATD",
        "outputId": "7436bf07-cea2-4cda-c8fa-45fe112b2ba0"
      },
      "id": "gxClFbKMeATD",
      "execution_count": null,
      "outputs": [
        {
          "output_type": "stream",
          "name": "stdout",
          "text": [
            "Looking in indexes: https://pypi.org/simple, https://us-python.pkg.dev/colab-wheels/public/simple/\n",
            "Collecting git+https://github.com/patrick-kidger/torchcde.git\n",
            "  Cloning https://github.com/patrick-kidger/torchcde.git to /tmp/pip-req-build-zifegqz1\n",
            "  Running command git clone -q https://github.com/patrick-kidger/torchcde.git /tmp/pip-req-build-zifegqz1\n",
            "Requirement already satisfied: torch>=1.7.0 in /usr/local/lib/python3.7/dist-packages (from torchcde==0.2.5) (1.12.1+cu113)\n",
            "Collecting torchdiffeq>=0.2.0\n",
            "  Downloading torchdiffeq-0.2.3-py3-none-any.whl (31 kB)\n",
            "Collecting torchsde>=0.2.5\n",
            "  Downloading torchsde-0.2.5-py3-none-any.whl (59 kB)\n",
            "\u001b[K     |████████████████████████████████| 59 kB 5.5 MB/s \n",
            "\u001b[?25hRequirement already satisfied: typing-extensions in /usr/local/lib/python3.7/dist-packages (from torch>=1.7.0->torchcde==0.2.5) (4.1.1)\n",
            "Requirement already satisfied: scipy>=1.4.0 in /usr/local/lib/python3.7/dist-packages (from torchdiffeq>=0.2.0->torchcde==0.2.5) (1.7.3)\n",
            "Requirement already satisfied: numpy<1.23.0,>=1.16.5 in /usr/local/lib/python3.7/dist-packages (from scipy>=1.4.0->torchdiffeq>=0.2.0->torchcde==0.2.5) (1.21.6)\n",
            "Collecting boltons>=20.2.1\n",
            "  Downloading boltons-21.0.0-py2.py3-none-any.whl (193 kB)\n",
            "\u001b[K     |████████████████████████████████| 193 kB 8.7 MB/s \n",
            "\u001b[?25hCollecting trampoline>=0.1.2\n",
            "  Downloading trampoline-0.1.2-py3-none-any.whl (5.2 kB)\n",
            "Building wheels for collected packages: torchcde\n",
            "  Building wheel for torchcde (setup.py) ... \u001b[?25l\u001b[?25hdone\n",
            "  Created wheel for torchcde: filename=torchcde-0.2.5-py3-none-any.whl size=28902 sha256=4edcf6b3b98c2c6b8ebb23c799f7f7a30929cb0db4a3b1868e883cd24133c9da\n",
            "  Stored in directory: /tmp/pip-ephem-wheel-cache-gnou53e_/wheels/57/9e/98/bdb1daad21c5227d3460cdc8cc0dd9e6cb6ef8aeafbcc8505d\n",
            "Successfully built torchcde\n",
            "Installing collected packages: trampoline, boltons, torchsde, torchdiffeq, torchcde\n",
            "Successfully installed boltons-21.0.0 torchcde-0.2.5 torchdiffeq-0.2.3 torchsde-0.2.5 trampoline-0.1.2\n"
          ]
        }
      ]
    },
    {
      "cell_type": "code",
      "source": [
        "from google.colab import drive\n",
        "drive.mount('/content/drive')\n",
        "import sys\n",
        "sys.path.insert(0,'/content/drive/MyDrive/torchsde/train_on_S&P/')\n",
        "import os\n",
        "os.chdir('/content/drive/MyDrive/torchsde/train_on_S&P/')"
      ],
      "metadata": {
        "colab": {
          "base_uri": "https://localhost:8080/"
        },
        "id": "XCwd-CnNfcPc",
        "outputId": "fafd912e-d3d5-48a8-c88a-912d91a1dbd5"
      },
      "id": "XCwd-CnNfcPc",
      "execution_count": null,
      "outputs": [
        {
          "output_type": "stream",
          "name": "stdout",
          "text": [
            "Mounted at /content/drive\n"
          ]
        }
      ]
    },
    {
      "cell_type": "code",
      "source": [
        "import fire\n",
        "import matplotlib.pyplot as plt\n",
        "import torch\n",
        "import torch.optim.swa_utils as swa_utils\n",
        "import torchcde\n",
        "import torchsde\n",
        "import tqdm\n",
        "import pickle\n",
        "import numpy as np\n",
        "from IPython.core.debugger import Pdb "
      ],
      "metadata": {
        "id": "_hB1CNqMd9wa"
      },
      "id": "_hB1CNqMd9wa",
      "execution_count": null,
      "outputs": []
    },
    {
      "cell_type": "code",
      "execution_count": null,
      "id": "612ea52c",
      "metadata": {
        "id": "612ea52c"
      },
      "outputs": [],
      "source": [
        "###################\n",
        "# First some standard helper objects.\n",
        "###################\n",
        "\n",
        "class LipSwish(torch.nn.Module):\n",
        "    def forward(self, x):\n",
        "        return 0.909 * torch.nn.functional.silu(x)\n",
        "\n",
        "\n",
        "class MLP(torch.nn.Module):\n",
        "    def __init__(self, in_size, out_size, mlp_size, num_layers, tanh):\n",
        "        super().__init__()\n",
        "\n",
        "        model = [torch.nn.Linear(in_size, mlp_size),\n",
        "                 LipSwish()]\n",
        "        for _ in range(num_layers - 1):\n",
        "            model.append(torch.nn.Linear(mlp_size, mlp_size))\n",
        "            ###################\n",
        "            # LipSwish activations are useful to constrain the Lipschitz constant of the discriminator.\n",
        "            # (For simplicity we additionally use them in the generator, but that's less important.)\n",
        "            ###################\n",
        "            model.append(LipSwish())\n",
        "        model.append(torch.nn.Linear(mlp_size, out_size))\n",
        "        if tanh:\n",
        "            model.append(torch.nn.Tanh())\n",
        "        self._model = torch.nn.Sequential(*model)\n",
        "\n",
        "    def forward(self, x):\n",
        "        return self._model(x)"
      ]
    },
    {
      "cell_type": "code",
      "source": [
        "###################\n",
        "# Now we define the SDEs.\n",
        "#\n",
        "# We begin by defining the generator SDE.\n",
        "###################\n",
        "class GeneratorFunc(torch.nn.Module):\n",
        "    sde_type = 'stratonovich'\n",
        "    noise_type = 'general'\n",
        "\n",
        "    def __init__(self, noise_size, hidden_size, mlp_size, num_layers):\n",
        "        super().__init__()\n",
        "        self._noise_size = noise_size\n",
        "        self._hidden_size = hidden_size\n",
        "\n",
        "        ###################\n",
        "        # Drift and diffusion are MLPs. They happen to be the same size.\n",
        "        # Note the final tanh nonlinearity: this is typically important for good performance, to constrain the rate of\n",
        "        # change of the hidden state.\n",
        "        # If you have problems with very high drift/diffusions then consider scaling these so that they squash to e.g.\n",
        "        # [-3, 3] rather than [-1, 1].\n",
        "        ###################\n",
        "        self._drift = MLP(1 + hidden_size, hidden_size, mlp_size, num_layers, tanh=True)\n",
        "        self._diffusion = MLP(1 + hidden_size, hidden_size * noise_size, mlp_size, num_layers, tanh=True)\n",
        "\n",
        "    def f_and_g(self, t, x):\n",
        "        # t has shape ()\n",
        "        # x has shape (batch_size, hidden_size)\n",
        "        t = t.expand(x.size(0), 1)\n",
        "        tx = torch.cat([t, x], dim=1)\n",
        "        return self._drift(tx), self._diffusion(tx).view(x.size(0), self._hidden_size, self._noise_size)\n",
        "\n"
      ],
      "metadata": {
        "id": "rl3ZTmHveYjO"
      },
      "id": "rl3ZTmHveYjO",
      "execution_count": null,
      "outputs": []
    },
    {
      "cell_type": "code",
      "source": [
        "###################\n",
        "# Now we wrap it up into something that computes the SDE.\n",
        "###################\n",
        "class Generator(torch.nn.Module):\n",
        "    def __init__(self, data_size, initial_noise_size, noise_size, hidden_size, mlp_size, num_layers):\n",
        "        super().__init__()\n",
        "        self._initial_noise_size = initial_noise_size\n",
        "        self._hidden_size = hidden_size\n",
        "\n",
        "        self._initial = MLP(initial_noise_size, hidden_size, mlp_size, num_layers, tanh=False)\n",
        "        self._func = GeneratorFunc(noise_size, hidden_size, mlp_size, num_layers)\n",
        "        self._readout = torch.nn.Linear(hidden_size, data_size)\n",
        "\n",
        "    def forward(self, ts, batch_size):\n",
        "        # ts has shape (t_size,) and corresponds to the points we want to evaluate the SDE at.\n",
        "\n",
        "        ###################\n",
        "        # Actually solve the SDE.\n",
        "        ###################\n",
        "        init_noise = torch.randn(batch_size, self._initial_noise_size, device=ts.device)\n",
        "        x0 = self._initial(init_noise)\n",
        "\n",
        "        ###################\n",
        "        # We use the reversible Heun method to get accurate gradients whilst using the adjoint method.\n",
        "        ###################\n",
        "        xs = torchsde.sdeint_adjoint(self._func, x0, ts, method='reversible_heun', dt=1.0,\n",
        "                                     adjoint_method='adjoint_reversible_heun',)\n",
        "        xs = xs.transpose(0, 1)\n",
        "        ys = self._readout(xs)\n",
        "\n",
        "        ###################\n",
        "        # Normalise the data to the form that the discriminator expects, in particular including time as a channel.\n",
        "        ###################\n",
        "        ts = ts.unsqueeze(0).unsqueeze(-1).expand(batch_size, ts.size(0), 1)\n",
        "        return torchcde.linear_interpolation_coeffs(torch.cat([ts, ys], dim=2))"
      ],
      "metadata": {
        "id": "cv9MdUj3en6z"
      },
      "id": "cv9MdUj3en6z",
      "execution_count": null,
      "outputs": []
    },
    {
      "cell_type": "code",
      "source": [
        "###################\n",
        "# Next the discriminator. Here, we're going to use a neural controlled differential equation (neural CDE) as the\n",
        "# discriminator, just as in the \"Neural SDEs as Infinite-Dimensional GANs\" paper. (You could use other things as well,\n",
        "# but this is a natural choice.)\n",
        "#\n",
        "# There's actually a few different (roughly equivalent) ways of making the discriminator work. The curious reader is\n",
        "# encouraged to have a read of the comment at the bottom of this file for an in-depth explanation.\n",
        "###################\n",
        "class DiscriminatorFunc(torch.nn.Module):\n",
        "    def __init__(self, data_size, hidden_size, mlp_size, num_layers):\n",
        "        super().__init__()\n",
        "        self._data_size = data_size\n",
        "        self._hidden_size = hidden_size\n",
        "\n",
        "        # tanh is important for model performance\n",
        "        self._module = MLP(1 + hidden_size, hidden_size * (1 + data_size), mlp_size, num_layers, tanh=True)\n",
        "\n",
        "    def forward(self, t, h):\n",
        "        # t has shape ()\n",
        "        # h has shape (batch_size, hidden_size)\n",
        "        t = t.expand(h.size(0), 1)\n",
        "        th = torch.cat([t, h], dim=1)\n",
        "        return self._module(th).view(h.size(0), self._hidden_size, 1 + self._data_size)\n",
        "\n",
        "\n",
        "class Discriminator(torch.nn.Module):\n",
        "    def __init__(self, data_size, hidden_size, mlp_size, num_layers):\n",
        "        super().__init__()\n",
        "\n",
        "        self._initial = MLP(1 + data_size, hidden_size, mlp_size, num_layers, tanh=False)\n",
        "        self._func = DiscriminatorFunc(data_size, hidden_size, mlp_size, num_layers)\n",
        "        self._readout = torch.nn.Linear(hidden_size, 1)\n",
        "\n",
        "    def forward(self, ys_coeffs):\n",
        "        # ys_coeffs has shape (batch_size, t_size, 1 + data_size)\n",
        "        # The +1 corresponds to time. When solving CDEs, It turns out to be most natural to treat time as just another\n",
        "        # channel: in particular this makes handling irregular data quite easy, when the times may be different between\n",
        "        # different samples in the batch.\n",
        "\n",
        "        Y = torchcde.LinearInterpolation(ys_coeffs)\n",
        "        Y0 = Y.evaluate(Y.interval[0])\n",
        "        h0 = self._initial(Y0)\n",
        "        hs = torchcde.cdeint(Y, self._func, h0, Y.interval, method='reversible_heun', backend='torchsde', dt=1.0,\n",
        "                             adjoint_method='adjoint_reversible_heun',\n",
        "                             adjoint_params=(ys_coeffs,) + tuple(self._func.parameters()))\n",
        "        score = self._readout(hs[:, -1])\n",
        "        return score.mean()"
      ],
      "metadata": {
        "id": "79gKNgQXfG2L"
      },
      "id": "79gKNgQXfG2L",
      "execution_count": null,
      "outputs": []
    },
    {
      "cell_type": "code",
      "source": [
        "###################\n",
        "# Generate some data. For this example we generate some synthetic data from a time-dependent Ornstein-Uhlenbeck SDE.\n",
        "###################\n",
        "def get_historical_data(batch_size, device):\n",
        "\n",
        "    with open('SP_all_daily_30day_stock_array.pkl', 'rb') as f:\n",
        "      stock_array = pickle.load(f)\n",
        "\n",
        "    stock_array = stock_array.astype(np.float32)\n",
        "\n",
        "       #consider the log-return series\n",
        "    return_array = np.zeros((stock_array.shape[0],stock_array.shape[1]-1))\n",
        "    for row in range(return_array.shape[0]):\n",
        "      return_array[row,:] = np.diff(np.log(stock_array[row,:]))\n",
        "\n",
        "    return_array = return_array.astype(np.float32)\n",
        "    dataset_size = return_array.shape[0]\n",
        "    t_size = return_array.shape[1]\n",
        "    #Pdb().set_trace()\n",
        "    # ou_sde = OrnsteinUhlenbeckSDE(mu=0.02, theta=0.1, sigma=0.4).to(device)\n",
        "    # y0 = torch.rand(dataset_size, device=device).unsqueeze(-1) * 2 - 1\n",
        "    ts = torch.linspace(0, t_size - 1, t_size, device=device)\n",
        "    # ys = torchsde.sdeint(ou_sde, y0, ts, dt=1e-1)\n",
        "    ys = torch.from_numpy(return_array).to(device).unsqueeze(-1)\n",
        "\n",
        "\n",
        "\n",
        "    ###################\n",
        "    # Typically important to normalise data. Note that the data is normalised with respect to the statistics of the\n",
        "    # initial data, _not_ the whole time series. This seems to help the learning process, presumably because if the\n",
        "    # initial condition is wrong then it's pretty hard to learn the rest of the SDE correctly.\n",
        "    ###################\n",
        "    y0_flat = ys[0].view(-1)\n",
        "    y0_not_nan = y0_flat.masked_select(~torch.isnan(y0_flat))\n",
        "    ys = (ys - y0_not_nan.mean()) / y0_not_nan.std()\n",
        "\n",
        "    #Pdb().set_trace()\n",
        "    ###################\n",
        "    # As discussed, time must be included as a channel for the discriminator.\n",
        "    ###################\n",
        "    # ys = torch.cat([ts.unsqueeze(0).unsqueeze(-1).expand(dataset_size, t_size, 1),\n",
        "    #                 ys.transpose(0, 1)], dim=2)\n",
        "    ys = torch.cat([ts.unsqueeze(0).unsqueeze(-1).expand(dataset_size, t_size, 1), ys], dim=2)\n",
        "    # shape (dataset_size=1000, t_size=100, 1 + data_size=3)\n",
        "    #Pdb().set_trace()\n",
        "    ###################\n",
        "    # Package up.\n",
        "    ###################\n",
        "    data_size = ys.size(-1) - 1  # How many channels the data has (not including time, hence the minus one).\n",
        "    ys_coeffs = torchcde.linear_interpolation_coeffs(ys)  # as per neural CDEs.\n",
        "    dataset = torch.utils.data.TensorDataset(ys_coeffs)\n",
        "    dataloader = torch.utils.data.DataLoader(dataset, batch_size=batch_size, shuffle=True)\n",
        "\n",
        "    return ts, data_size, dataloader"
      ],
      "metadata": {
        "id": "51wxaqpffPkT"
      },
      "id": "51wxaqpffPkT",
      "execution_count": null,
      "outputs": []
    },
    {
      "cell_type": "code",
      "source": [
        "###################\n",
        "# Now do normal GAN training, and plot the results.\n",
        "#\n",
        "# GANs are famously tricky and SDEs trained as GANs are no exception. Hopefully you can learn from our experience and\n",
        "# get these working faster than we did -- we found that several tricks were often helpful to get this working in a\n",
        "# reasonable fashion:\n",
        "# - Stochastic weight averaging (average out the oscillations in GAN training).\n",
        "# - Weight decay (reduce the oscillations in GAN training).\n",
        "# - Final tanh nonlinearities in the architectures of the vector fields, as above. (To avoid the model blowing up.)\n",
        "# - Adadelta (interestingly seems to be a lot better than either SGD or Adam).\n",
        "# - Choosing a good learning rate (always important).\n",
        "# - Scaling the weights at initialisation to be roughly the right size (chosen through empirical trial-and-error).\n",
        "###################\n",
        "\n",
        "def evaluate_loss(ts, batch_size, dataloader, generator, discriminator):\n",
        "    with torch.no_grad():\n",
        "        total_samples = 0\n",
        "        total_loss = 0\n",
        "        for real_samples, in dataloader:\n",
        "            generated_samples = generator(ts, batch_size)\n",
        "            generated_score = discriminator(generated_samples)\n",
        "            real_score = discriminator(real_samples)\n",
        "            loss = generated_score - real_score\n",
        "            total_samples += batch_size\n",
        "            total_loss += loss.item() * batch_size\n",
        "    return total_loss / total_samples\n"
      ],
      "metadata": {
        "id": "dQnsojIJwxFK"
      },
      "id": "dQnsojIJwxFK",
      "execution_count": null,
      "outputs": []
    },
    {
      "cell_type": "code",
      "source": [
        "# Architectural hyperparameters. These are quite small for illustrative purposes.\n",
        "initial_noise_size=5  # How many noise dimensions to sample at the start of the SDE.\n",
        "noise_size=3         # How many dimensions the Brownian motion has.\n",
        "hidden_size=16        # How big the hidden size of the generator SDE and the discriminator CDE are.\n",
        "mlp_size=16          # How big the layers in the various MLPs are.\n",
        "num_layers=2        # How many hidden layers to have in the various MLPs.\n",
        "\n",
        "# Training hyperparameters. Be prepared to tune these very carefully, as with any GAN.\n",
        "generator_lr=0.01      # Learning rate often needs careful tuning to the problem.\n",
        "discriminator_lr=0.01  # Learning rate often needs careful tuning to the problem.\n",
        "batch_size=1000        # Batch size.\n",
        "steps=10000            # How many steps to train both generator and discriminator for.\n",
        "init_mult1=3           # Changing the initial parameter size can help.\n",
        "init_mult2=0.5         #\n",
        "weight_decay=0.01      # Weight decay.\n",
        "swa_step_start=1000   # When to start using stochastic weight averaging.\n",
        "\n",
        "# Evaluation and plotting hyperparameters\n",
        "steps_per_print=100                   # How often to print the loss.\n",
        "\n",
        "\n",
        "\n"
      ],
      "metadata": {
        "id": "D6PspygIw_wC"
      },
      "id": "D6PspygIw_wC",
      "execution_count": null,
      "outputs": []
    },
    {
      "cell_type": "code",
      "source": [
        "is_cuda = torch.cuda.is_available()\n",
        "device = 'cuda' if is_cuda else 'cpu'\n",
        "if not is_cuda:\n",
        "    print(\"Warning: CUDA not available; falling back to CPU but this is likely to be very slow.\")\n",
        "\n",
        "# Data\n",
        "ts, data_size, train_dataloader = get_historical_data(batch_size=batch_size, device=device)\n",
        "infinite_train_dataloader = (elem for it in iter(lambda: train_dataloader, None) for elem in it)\n",
        "\n",
        "# Models\n",
        "generator = Generator(data_size, initial_noise_size, noise_size, hidden_size, mlp_size, num_layers).to(device)\n",
        "discriminator = Discriminator(data_size, hidden_size, mlp_size, num_layers).to(device)\n",
        "# Weight averaging really helps with GAN training.\n",
        "averaged_generator = swa_utils.AveragedModel(generator)\n",
        "averaged_discriminator = swa_utils.AveragedModel(discriminator)\n",
        "\n",
        "# Picking a good initialisation is important!\n",
        "# In this case these were picked by making the parameters for the t=0 part of the generator be roughly the right\n",
        "# size that the untrained t=0 distribution has a similar variance to the t=0 data distribution.\n",
        "# Then the func parameters were adjusted so that the t>0 distribution looked like it had about the right variance.\n",
        "# What we're doing here is very crude -- one can definitely imagine smarter ways of doing things.\n",
        "# (e.g. pretraining the t=0 distribution)\n",
        "with torch.no_grad():\n",
        "    for param in generator._initial.parameters():\n",
        "        param *= init_mult1\n",
        "    for param in generator._func.parameters():\n",
        "        param *= init_mult2\n",
        "\n",
        "# Optimisers. Adadelta turns out to be a much better choice than SGD or Adam, interestingly.\n",
        "generator_optimiser = torch.optim.Adadelta(generator.parameters(), lr=generator_lr, weight_decay=weight_decay)\n",
        "discriminator_optimiser = torch.optim.Adadelta(discriminator.parameters(), lr=discriminator_lr,\n",
        "                                                weight_decay=weight_decay)\n",
        "\n",
        "# Train both generator and discriminator.\n",
        "trange = tqdm.tqdm(range(steps))\n",
        "loss_list =[]\n",
        "for step in trange:\n",
        "    real_samples, = next(infinite_train_dataloader)\n",
        "\n",
        "    generated_samples = generator(ts, batch_size)\n",
        "    generated_score = discriminator(generated_samples)\n",
        "    real_score = discriminator(real_samples)\n",
        "    loss = generated_score - real_score\n",
        "    loss.backward()\n",
        "\n",
        "    for param in generator.parameters():\n",
        "        param.grad *= -1\n",
        "    generator_optimiser.step()\n",
        "    discriminator_optimiser.step()\n",
        "    generator_optimiser.zero_grad()\n",
        "    discriminator_optimiser.zero_grad()\n",
        "\n",
        "    ###################\n",
        "    # We constrain the Lipschitz constant of the discriminator using carefully-chosen clipping (and the use of\n",
        "    # LipSwish activation functions).\n",
        "    ###################\n",
        "    with torch.no_grad():\n",
        "        for module in discriminator.modules():\n",
        "            if isinstance(module, torch.nn.Linear):\n",
        "                lim = 1 / module.out_features\n",
        "                module.weight.clamp_(-lim, lim)\n",
        "\n",
        "    # Stochastic weight averaging typically improves performance.\n",
        "    if step > swa_step_start:\n",
        "        averaged_generator.update_parameters(generator)\n",
        "        averaged_discriminator.update_parameters(discriminator)\n",
        "\n",
        "    if (step % steps_per_print) == 0 or step == steps - 1:\n",
        "        total_unaveraged_loss = evaluate_loss(ts, batch_size, train_dataloader, generator, discriminator)\n",
        "        loss_list.append(total_unaveraged_loss)\n",
        "        if step > swa_step_start:\n",
        "            total_averaged_loss = evaluate_loss(ts, batch_size, train_dataloader, averaged_generator.module, averaged_discriminator.module)\n",
        "            trange.write(f\"Step: {step:3} Loss (unaveraged): {total_unaveraged_loss:.4f} \"\n",
        "                          f\"Loss (averaged): {total_averaged_loss:.4f}\")\n",
        "        else:\n",
        "            trange.write(f\"Step: {step:3} Loss (unaveraged): {total_unaveraged_loss:.4f}\")\n",
        "       \n",
        "generator.load_state_dict(averaged_generator.module.state_dict())\n",
        "discriminator.load_state_dict(averaged_discriminator.module.state_dict())\n",
        "\n"
      ],
      "metadata": {
        "colab": {
          "base_uri": "https://localhost:8080/"
        },
        "id": "O7pQPWSw_waU",
        "outputId": "539981ff-f4fe-494b-caf9-ba4d782838d2"
      },
      "id": "O7pQPWSw_waU",
      "execution_count": null,
      "outputs": [
        {
          "output_type": "stream",
          "name": "stderr",
          "text": [
            "  0%|          | 1/10000 [00:07<21:02:54,  7.58s/it]"
          ]
        },
        {
          "output_type": "stream",
          "name": "stdout",
          "text": [
            "Step:   0 Loss (unaveraged): 0.0342\n"
          ]
        },
        {
          "output_type": "stream",
          "name": "stderr",
          "text": [
            "  1%|          | 101/10000 [00:51<7:07:07,  2.59s/it]"
          ]
        },
        {
          "output_type": "stream",
          "name": "stdout",
          "text": [
            "Step: 100 Loss (unaveraged): 0.2006\n"
          ]
        },
        {
          "output_type": "stream",
          "name": "stderr",
          "text": [
            "  2%|▏         | 201/10000 [01:35<7:06:31,  2.61s/it]"
          ]
        },
        {
          "output_type": "stream",
          "name": "stdout",
          "text": [
            "Step: 200 Loss (unaveraged): 0.3080\n"
          ]
        },
        {
          "output_type": "stream",
          "name": "stderr",
          "text": [
            "  3%|▎         | 301/10000 [02:20<6:47:46,  2.52s/it]"
          ]
        },
        {
          "output_type": "stream",
          "name": "stdout",
          "text": [
            "Step: 300 Loss (unaveraged): -0.5578\n"
          ]
        },
        {
          "output_type": "stream",
          "name": "stderr",
          "text": [
            "  4%|▍         | 401/10000 [03:03<6:49:46,  2.56s/it]"
          ]
        },
        {
          "output_type": "stream",
          "name": "stdout",
          "text": [
            "Step: 400 Loss (unaveraged): -0.9855\n"
          ]
        },
        {
          "output_type": "stream",
          "name": "stderr",
          "text": [
            "  5%|▌         | 501/10000 [03:47<6:44:30,  2.56s/it]"
          ]
        },
        {
          "output_type": "stream",
          "name": "stdout",
          "text": [
            "Step: 500 Loss (unaveraged): -3.1111\n"
          ]
        },
        {
          "output_type": "stream",
          "name": "stderr",
          "text": [
            "  6%|▌         | 601/10000 [04:30<6:37:18,  2.54s/it]"
          ]
        },
        {
          "output_type": "stream",
          "name": "stdout",
          "text": [
            "Step: 600 Loss (unaveraged): -24.5787\n"
          ]
        },
        {
          "output_type": "stream",
          "name": "stderr",
          "text": [
            "  7%|▋         | 701/10000 [05:14<6:31:48,  2.53s/it]"
          ]
        },
        {
          "output_type": "stream",
          "name": "stdout",
          "text": [
            "Step: 700 Loss (unaveraged): -6.9453\n"
          ]
        },
        {
          "output_type": "stream",
          "name": "stderr",
          "text": [
            "  8%|▊         | 801/10000 [05:57<6:30:04,  2.54s/it]"
          ]
        },
        {
          "output_type": "stream",
          "name": "stdout",
          "text": [
            "Step: 800 Loss (unaveraged): -4.0943\n"
          ]
        },
        {
          "output_type": "stream",
          "name": "stderr",
          "text": [
            "  9%|▉         | 901/10000 [06:40<6:21:54,  2.52s/it]"
          ]
        },
        {
          "output_type": "stream",
          "name": "stdout",
          "text": [
            "Step: 900 Loss (unaveraged): -4.8305\n"
          ]
        },
        {
          "output_type": "stream",
          "name": "stderr",
          "text": [
            " 10%|█         | 1001/10000 [07:24<6:15:04,  2.50s/it]"
          ]
        },
        {
          "output_type": "stream",
          "name": "stdout",
          "text": [
            "Step: 1000 Loss (unaveraged): -5.0760\n"
          ]
        },
        {
          "output_type": "stream",
          "name": "stderr",
          "text": [
            " 11%|█         | 1101/10000 [08:14<11:31:09,  4.66s/it]"
          ]
        },
        {
          "output_type": "stream",
          "name": "stdout",
          "text": [
            "Step: 1100 Loss (unaveraged): -5.3504 Loss (averaged): -5.1909\n"
          ]
        },
        {
          "output_type": "stream",
          "name": "stderr",
          "text": [
            " 12%|█▏        | 1201/10000 [09:05<11:23:38,  4.66s/it]"
          ]
        },
        {
          "output_type": "stream",
          "name": "stdout",
          "text": [
            "Step: 1200 Loss (unaveraged): -5.4013 Loss (averaged): -5.4011\n"
          ]
        },
        {
          "output_type": "stream",
          "name": "stderr",
          "text": [
            " 13%|█▎        | 1301/10000 [09:55<11:20:54,  4.70s/it]"
          ]
        },
        {
          "output_type": "stream",
          "name": "stdout",
          "text": [
            "Step: 1300 Loss (unaveraged): -5.7689 Loss (averaged): -5.4426\n"
          ]
        },
        {
          "output_type": "stream",
          "name": "stderr",
          "text": [
            " 14%|█▍        | 1401/10000 [10:46<11:05:58,  4.65s/it]"
          ]
        },
        {
          "output_type": "stream",
          "name": "stdout",
          "text": [
            "Step: 1400 Loss (unaveraged): -6.0893 Loss (averaged): -5.8169\n"
          ]
        },
        {
          "output_type": "stream",
          "name": "stderr",
          "text": [
            " 15%|█▌        | 1501/10000 [11:36<11:02:02,  4.67s/it]"
          ]
        },
        {
          "output_type": "stream",
          "name": "stdout",
          "text": [
            "Step: 1500 Loss (unaveraged): -6.0049 Loss (averaged): -5.6693\n"
          ]
        },
        {
          "output_type": "stream",
          "name": "stderr",
          "text": [
            " 16%|█▌        | 1601/10000 [12:27<10:52:44,  4.66s/it]"
          ]
        },
        {
          "output_type": "stream",
          "name": "stdout",
          "text": [
            "Step: 1600 Loss (unaveraged): -6.4220 Loss (averaged): -5.9707\n"
          ]
        },
        {
          "output_type": "stream",
          "name": "stderr",
          "text": [
            " 17%|█▋        | 1701/10000 [13:17<10:40:12,  4.63s/it]"
          ]
        },
        {
          "output_type": "stream",
          "name": "stdout",
          "text": [
            "Step: 1700 Loss (unaveraged): -6.2828 Loss (averaged): -5.8446\n"
          ]
        },
        {
          "output_type": "stream",
          "name": "stderr",
          "text": [
            " 18%|█▊        | 1801/10000 [14:08<10:41:25,  4.69s/it]"
          ]
        },
        {
          "output_type": "stream",
          "name": "stdout",
          "text": [
            "Step: 1800 Loss (unaveraged): -6.1563 Loss (averaged): -5.8235\n"
          ]
        },
        {
          "output_type": "stream",
          "name": "stderr",
          "text": [
            " 19%|█▉        | 1901/10000 [14:58<10:32:18,  4.68s/it]"
          ]
        },
        {
          "output_type": "stream",
          "name": "stdout",
          "text": [
            "Step: 1900 Loss (unaveraged): -5.8923 Loss (averaged): -6.0447\n"
          ]
        },
        {
          "output_type": "stream",
          "name": "stderr",
          "text": [
            " 20%|██        | 2001/10000 [15:49<10:17:42,  4.63s/it]"
          ]
        },
        {
          "output_type": "stream",
          "name": "stdout",
          "text": [
            "Step: 2000 Loss (unaveraged): -5.6459 Loss (averaged): -5.8644\n"
          ]
        },
        {
          "output_type": "stream",
          "name": "stderr",
          "text": [
            " 21%|██        | 2101/10000 [16:39<10:16:18,  4.68s/it]"
          ]
        },
        {
          "output_type": "stream",
          "name": "stdout",
          "text": [
            "Step: 2100 Loss (unaveraged): -5.6935 Loss (averaged): -6.1083\n"
          ]
        },
        {
          "output_type": "stream",
          "name": "stderr",
          "text": [
            " 22%|██▏       | 2201/10000 [17:30<10:07:41,  4.68s/it]"
          ]
        },
        {
          "output_type": "stream",
          "name": "stdout",
          "text": [
            "Step: 2200 Loss (unaveraged): -5.7548 Loss (averaged): -5.9710\n"
          ]
        },
        {
          "output_type": "stream",
          "name": "stderr",
          "text": [
            " 23%|██▎       | 2301/10000 [18:20<9:52:54,  4.62s/it]"
          ]
        },
        {
          "output_type": "stream",
          "name": "stdout",
          "text": [
            "Step: 2300 Loss (unaveraged): -5.2532 Loss (averaged): -6.2999\n"
          ]
        },
        {
          "output_type": "stream",
          "name": "stderr",
          "text": [
            " 24%|██▍       | 2401/10000 [19:11<9:49:32,  4.65s/it]"
          ]
        },
        {
          "output_type": "stream",
          "name": "stdout",
          "text": [
            "Step: 2400 Loss (unaveraged): -5.6195 Loss (averaged): -5.8374\n"
          ]
        },
        {
          "output_type": "stream",
          "name": "stderr",
          "text": [
            " 25%|██▌       | 2501/10000 [20:01<9:40:28,  4.64s/it]"
          ]
        },
        {
          "output_type": "stream",
          "name": "stdout",
          "text": [
            "Step: 2500 Loss (unaveraged): -5.2685 Loss (averaged): -6.1509\n"
          ]
        },
        {
          "output_type": "stream",
          "name": "stderr",
          "text": [
            " 26%|██▌       | 2601/10000 [20:51<9:31:51,  4.64s/it]"
          ]
        },
        {
          "output_type": "stream",
          "name": "stdout",
          "text": [
            "Step: 2600 Loss (unaveraged): -5.4476 Loss (averaged): -5.9628\n"
          ]
        },
        {
          "output_type": "stream",
          "name": "stderr",
          "text": [
            " 27%|██▋       | 2701/10000 [21:42<9:26:54,  4.66s/it]"
          ]
        },
        {
          "output_type": "stream",
          "name": "stdout",
          "text": [
            "Step: 2700 Loss (unaveraged): -4.9399 Loss (averaged): -6.0378\n"
          ]
        },
        {
          "output_type": "stream",
          "name": "stderr",
          "text": [
            " 28%|██▊       | 2801/10000 [22:32<9:20:59,  4.68s/it]"
          ]
        },
        {
          "output_type": "stream",
          "name": "stdout",
          "text": [
            "Step: 2800 Loss (unaveraged): -5.3907 Loss (averaged): -5.8386\n"
          ]
        },
        {
          "output_type": "stream",
          "name": "stderr",
          "text": [
            " 29%|██▉       | 2901/10000 [23:22<9:07:57,  4.63s/it]"
          ]
        },
        {
          "output_type": "stream",
          "name": "stdout",
          "text": [
            "Step: 2900 Loss (unaveraged): -5.3210 Loss (averaged): -5.7811\n"
          ]
        },
        {
          "output_type": "stream",
          "name": "stderr",
          "text": [
            " 30%|███       | 3001/10000 [24:12<8:58:29,  4.62s/it]"
          ]
        },
        {
          "output_type": "stream",
          "name": "stdout",
          "text": [
            "Step: 3000 Loss (unaveraged): -5.1494 Loss (averaged): -5.8834\n"
          ]
        },
        {
          "output_type": "stream",
          "name": "stderr",
          "text": [
            " 31%|███       | 3101/10000 [25:03<8:52:27,  4.63s/it]"
          ]
        },
        {
          "output_type": "stream",
          "name": "stdout",
          "text": [
            "Step: 3100 Loss (unaveraged): -4.8007 Loss (averaged): -6.0285\n"
          ]
        },
        {
          "output_type": "stream",
          "name": "stderr",
          "text": [
            " 32%|███▏      | 3201/10000 [25:53<8:43:08,  4.62s/it]"
          ]
        },
        {
          "output_type": "stream",
          "name": "stdout",
          "text": [
            "Step: 3200 Loss (unaveraged): -4.9380 Loss (averaged): -5.8605\n"
          ]
        },
        {
          "output_type": "stream",
          "name": "stderr",
          "text": [
            " 33%|███▎      | 3301/10000 [26:43<8:38:06,  4.64s/it]"
          ]
        },
        {
          "output_type": "stream",
          "name": "stdout",
          "text": [
            "Step: 3300 Loss (unaveraged): -4.7691 Loss (averaged): -5.9535\n"
          ]
        },
        {
          "output_type": "stream",
          "name": "stderr",
          "text": [
            " 34%|███▍      | 3401/10000 [27:33<8:33:11,  4.67s/it]"
          ]
        },
        {
          "output_type": "stream",
          "name": "stdout",
          "text": [
            "Step: 3400 Loss (unaveraged): -4.8162 Loss (averaged): -5.8312\n"
          ]
        },
        {
          "output_type": "stream",
          "name": "stderr",
          "text": [
            " 35%|███▌      | 3501/10000 [28:23<8:19:27,  4.61s/it]"
          ]
        },
        {
          "output_type": "stream",
          "name": "stdout",
          "text": [
            "Step: 3500 Loss (unaveraged): -4.9130 Loss (averaged): -5.5861\n"
          ]
        },
        {
          "output_type": "stream",
          "name": "stderr",
          "text": [
            " 36%|███▌      | 3601/10000 [29:14<8:09:27,  4.59s/it]"
          ]
        },
        {
          "output_type": "stream",
          "name": "stdout",
          "text": [
            "Step: 3600 Loss (unaveraged): -4.4490 Loss (averaged): -5.9118\n"
          ]
        },
        {
          "output_type": "stream",
          "name": "stderr",
          "text": [
            " 37%|███▋      | 3701/10000 [30:04<8:09:17,  4.66s/it]"
          ]
        },
        {
          "output_type": "stream",
          "name": "stdout",
          "text": [
            "Step: 3700 Loss (unaveraged): -4.4826 Loss (averaged): -5.6763\n"
          ]
        },
        {
          "output_type": "stream",
          "name": "stderr",
          "text": [
            " 38%|███▊      | 3801/10000 [30:59<8:42:12,  5.05s/it]"
          ]
        },
        {
          "output_type": "stream",
          "name": "stdout",
          "text": [
            "Step: 3800 Loss (unaveraged): -4.1901 Loss (averaged): -5.4910\n"
          ]
        },
        {
          "output_type": "stream",
          "name": "stderr",
          "text": [
            " 39%|███▉      | 3901/10000 [31:51<7:59:02,  4.71s/it]"
          ]
        },
        {
          "output_type": "stream",
          "name": "stdout",
          "text": [
            "Step: 3900 Loss (unaveraged): -4.3127 Loss (averaged): -5.5936\n"
          ]
        },
        {
          "output_type": "stream",
          "name": "stderr",
          "text": [
            " 40%|████      | 4001/10000 [32:43<7:48:21,  4.68s/it]"
          ]
        },
        {
          "output_type": "stream",
          "name": "stdout",
          "text": [
            "Step: 4000 Loss (unaveraged): -4.3079 Loss (averaged): -5.6913\n"
          ]
        },
        {
          "output_type": "stream",
          "name": "stderr",
          "text": [
            " 41%|████      | 4101/10000 [33:34<7:40:20,  4.68s/it]"
          ]
        },
        {
          "output_type": "stream",
          "name": "stdout",
          "text": [
            "Step: 4100 Loss (unaveraged): -4.2026 Loss (averaged): -5.9647\n"
          ]
        },
        {
          "output_type": "stream",
          "name": "stderr",
          "text": [
            " 42%|████▏     | 4201/10000 [34:24<7:30:05,  4.66s/it]"
          ]
        },
        {
          "output_type": "stream",
          "name": "stdout",
          "text": [
            "Step: 4200 Loss (unaveraged): -3.8553 Loss (averaged): -5.7120\n"
          ]
        },
        {
          "output_type": "stream",
          "name": "stderr",
          "text": [
            " 43%|████▎     | 4301/10000 [35:15<7:21:30,  4.65s/it]"
          ]
        },
        {
          "output_type": "stream",
          "name": "stdout",
          "text": [
            "Step: 4300 Loss (unaveraged): -4.1816 Loss (averaged): -5.6994\n"
          ]
        },
        {
          "output_type": "stream",
          "name": "stderr",
          "text": [
            " 44%|████▍     | 4401/10000 [36:06<7:14:28,  4.66s/it]"
          ]
        },
        {
          "output_type": "stream",
          "name": "stdout",
          "text": [
            "Step: 4400 Loss (unaveraged): -3.8656 Loss (averaged): -5.6468\n"
          ]
        },
        {
          "output_type": "stream",
          "name": "stderr",
          "text": [
            " 45%|████▌     | 4501/10000 [36:56<7:10:26,  4.70s/it]"
          ]
        },
        {
          "output_type": "stream",
          "name": "stdout",
          "text": [
            "Step: 4500 Loss (unaveraged): -3.9859 Loss (averaged): -5.3566\n"
          ]
        },
        {
          "output_type": "stream",
          "name": "stderr",
          "text": [
            " 46%|████▌     | 4601/10000 [37:47<7:00:19,  4.67s/it]"
          ]
        },
        {
          "output_type": "stream",
          "name": "stdout",
          "text": [
            "Step: 4600 Loss (unaveraged): -3.8310 Loss (averaged): -5.4590\n"
          ]
        },
        {
          "output_type": "stream",
          "name": "stderr",
          "text": [
            " 47%|████▋     | 4701/10000 [38:37<6:55:19,  4.70s/it]"
          ]
        },
        {
          "output_type": "stream",
          "name": "stdout",
          "text": [
            "Step: 4700 Loss (unaveraged): -3.7414 Loss (averaged): -5.3066\n"
          ]
        },
        {
          "output_type": "stream",
          "name": "stderr",
          "text": [
            " 48%|████▊     | 4801/10000 [39:28<6:43:17,  4.65s/it]"
          ]
        },
        {
          "output_type": "stream",
          "name": "stdout",
          "text": [
            "Step: 4800 Loss (unaveraged): -3.8407 Loss (averaged): -5.4727\n"
          ]
        },
        {
          "output_type": "stream",
          "name": "stderr",
          "text": [
            " 49%|████▉     | 4901/10000 [40:18<6:34:33,  4.64s/it]"
          ]
        },
        {
          "output_type": "stream",
          "name": "stdout",
          "text": [
            "Step: 4900 Loss (unaveraged): -4.1659 Loss (averaged): -5.5901\n"
          ]
        },
        {
          "output_type": "stream",
          "name": "stderr",
          "text": [
            " 50%|█████     | 5001/10000 [41:09<6:28:12,  4.66s/it]"
          ]
        },
        {
          "output_type": "stream",
          "name": "stdout",
          "text": [
            "Step: 5000 Loss (unaveraged): -3.2946 Loss (averaged): -5.4053\n"
          ]
        },
        {
          "output_type": "stream",
          "name": "stderr",
          "text": [
            " 51%|█████     | 5101/10000 [42:00<6:22:31,  4.69s/it]"
          ]
        },
        {
          "output_type": "stream",
          "name": "stdout",
          "text": [
            "Step: 5100 Loss (unaveraged): -3.6524 Loss (averaged): -5.4009\n"
          ]
        },
        {
          "output_type": "stream",
          "name": "stderr",
          "text": [
            " 52%|█████▏    | 5201/10000 [42:50<6:09:52,  4.62s/it]"
          ]
        },
        {
          "output_type": "stream",
          "name": "stdout",
          "text": [
            "Step: 5200 Loss (unaveraged): -3.0915 Loss (averaged): -5.4041\n"
          ]
        },
        {
          "output_type": "stream",
          "name": "stderr",
          "text": [
            " 53%|█████▎    | 5301/10000 [43:41<6:04:01,  4.65s/it]"
          ]
        },
        {
          "output_type": "stream",
          "name": "stdout",
          "text": [
            "Step: 5300 Loss (unaveraged): -3.4029 Loss (averaged): -5.2763\n"
          ]
        },
        {
          "output_type": "stream",
          "name": "stderr",
          "text": [
            " 54%|█████▍    | 5401/10000 [44:31<5:59:12,  4.69s/it]"
          ]
        },
        {
          "output_type": "stream",
          "name": "stdout",
          "text": [
            "Step: 5400 Loss (unaveraged): -3.1469 Loss (averaged): -4.9929\n"
          ]
        },
        {
          "output_type": "stream",
          "name": "stderr",
          "text": [
            " 55%|█████▌    | 5501/10000 [45:22<5:48:41,  4.65s/it]"
          ]
        },
        {
          "output_type": "stream",
          "name": "stdout",
          "text": [
            "Step: 5500 Loss (unaveraged): -3.2228 Loss (averaged): -4.8729\n"
          ]
        },
        {
          "output_type": "stream",
          "name": "stderr",
          "text": [
            " 56%|█████▌    | 5601/10000 [46:12<5:39:19,  4.63s/it]"
          ]
        },
        {
          "output_type": "stream",
          "name": "stdout",
          "text": [
            "Step: 5600 Loss (unaveraged): -3.1505 Loss (averaged): -5.0892\n"
          ]
        },
        {
          "output_type": "stream",
          "name": "stderr",
          "text": [
            " 57%|█████▋    | 5701/10000 [47:03<5:36:47,  4.70s/it]"
          ]
        },
        {
          "output_type": "stream",
          "name": "stdout",
          "text": [
            "Step: 5700 Loss (unaveraged): -2.7374 Loss (averaged): -4.6808\n"
          ]
        },
        {
          "output_type": "stream",
          "name": "stderr",
          "text": [
            " 58%|█████▊    | 5801/10000 [47:54<5:25:25,  4.65s/it]"
          ]
        },
        {
          "output_type": "stream",
          "name": "stdout",
          "text": [
            "Step: 5800 Loss (unaveraged): -3.0686 Loss (averaged): -4.7901\n"
          ]
        },
        {
          "output_type": "stream",
          "name": "stderr",
          "text": [
            " 59%|█████▉    | 5901/10000 [48:44<5:17:59,  4.65s/it]"
          ]
        },
        {
          "output_type": "stream",
          "name": "stdout",
          "text": [
            "Step: 5900 Loss (unaveraged): -2.7395 Loss (averaged): -4.7454\n"
          ]
        },
        {
          "output_type": "stream",
          "name": "stderr",
          "text": [
            " 60%|██████    | 6001/10000 [49:35<5:11:12,  4.67s/it]"
          ]
        },
        {
          "output_type": "stream",
          "name": "stdout",
          "text": [
            "Step: 6000 Loss (unaveraged): -2.9494 Loss (averaged): -5.0470\n"
          ]
        },
        {
          "output_type": "stream",
          "name": "stderr",
          "text": [
            " 61%|██████    | 6101/10000 [50:25<5:03:30,  4.67s/it]"
          ]
        },
        {
          "output_type": "stream",
          "name": "stdout",
          "text": [
            "Step: 6100 Loss (unaveraged): -2.6573 Loss (averaged): -4.9343\n"
          ]
        },
        {
          "output_type": "stream",
          "name": "stderr",
          "text": [
            " 62%|██████▏   | 6201/10000 [51:15<4:50:47,  4.59s/it]"
          ]
        },
        {
          "output_type": "stream",
          "name": "stdout",
          "text": [
            "Step: 6200 Loss (unaveraged): -2.1848 Loss (averaged): -4.7281\n"
          ]
        },
        {
          "output_type": "stream",
          "name": "stderr",
          "text": [
            " 63%|██████▎   | 6301/10000 [52:05<4:44:26,  4.61s/it]"
          ]
        },
        {
          "output_type": "stream",
          "name": "stdout",
          "text": [
            "Step: 6300 Loss (unaveraged): -2.2919 Loss (averaged): -4.9302\n"
          ]
        },
        {
          "output_type": "stream",
          "name": "stderr",
          "text": [
            " 64%|██████▍   | 6401/10000 [52:55<4:37:01,  4.62s/it]"
          ]
        },
        {
          "output_type": "stream",
          "name": "stdout",
          "text": [
            "Step: 6400 Loss (unaveraged): -2.1317 Loss (averaged): -4.7264\n"
          ]
        },
        {
          "output_type": "stream",
          "name": "stderr",
          "text": [
            " 65%|██████▌   | 6501/10000 [53:46<4:27:47,  4.59s/it]"
          ]
        },
        {
          "output_type": "stream",
          "name": "stdout",
          "text": [
            "Step: 6500 Loss (unaveraged): -1.7907 Loss (averaged): -4.4794\n"
          ]
        },
        {
          "output_type": "stream",
          "name": "stderr",
          "text": [
            " 66%|██████▌   | 6601/10000 [54:36<4:25:05,  4.68s/it]"
          ]
        },
        {
          "output_type": "stream",
          "name": "stdout",
          "text": [
            "Step: 6600 Loss (unaveraged): -2.4215 Loss (averaged): -4.7551\n"
          ]
        },
        {
          "output_type": "stream",
          "name": "stderr",
          "text": [
            " 67%|██████▋   | 6701/10000 [55:26<4:16:09,  4.66s/it]"
          ]
        },
        {
          "output_type": "stream",
          "name": "stdout",
          "text": [
            "Step: 6700 Loss (unaveraged): -1.6827 Loss (averaged): -4.7990\n"
          ]
        },
        {
          "output_type": "stream",
          "name": "stderr",
          "text": [
            " 68%|██████▊   | 6801/10000 [56:17<4:07:39,  4.64s/it]"
          ]
        },
        {
          "output_type": "stream",
          "name": "stdout",
          "text": [
            "Step: 6800 Loss (unaveraged): -1.5054 Loss (averaged): -4.5835\n"
          ]
        },
        {
          "output_type": "stream",
          "name": "stderr",
          "text": [
            " 69%|██████▉   | 6901/10000 [57:07<4:00:14,  4.65s/it]"
          ]
        },
        {
          "output_type": "stream",
          "name": "stdout",
          "text": [
            "Step: 6900 Loss (unaveraged): -1.5675 Loss (averaged): -4.5626\n"
          ]
        },
        {
          "output_type": "stream",
          "name": "stderr",
          "text": [
            " 70%|███████   | 7001/10000 [57:57<3:51:12,  4.63s/it]"
          ]
        },
        {
          "output_type": "stream",
          "name": "stdout",
          "text": [
            "Step: 7000 Loss (unaveraged): -1.1920 Loss (averaged): -4.6175\n"
          ]
        },
        {
          "output_type": "stream",
          "name": "stderr",
          "text": [
            " 71%|███████   | 7101/10000 [58:48<3:44:05,  4.64s/it]"
          ]
        },
        {
          "output_type": "stream",
          "name": "stdout",
          "text": [
            "Step: 7100 Loss (unaveraged): -1.0667 Loss (averaged): -4.7552\n"
          ]
        },
        {
          "output_type": "stream",
          "name": "stderr",
          "text": [
            " 72%|███████▏  | 7201/10000 [59:38<3:36:48,  4.65s/it]"
          ]
        },
        {
          "output_type": "stream",
          "name": "stdout",
          "text": [
            "Step: 7200 Loss (unaveraged): -1.1965 Loss (averaged): -4.1696\n"
          ]
        },
        {
          "output_type": "stream",
          "name": "stderr",
          "text": [
            " 73%|███████▎  | 7301/10000 [1:00:28<3:26:51,  4.60s/it]"
          ]
        },
        {
          "output_type": "stream",
          "name": "stdout",
          "text": [
            "Step: 7300 Loss (unaveraged): -0.8578 Loss (averaged): -4.4625\n"
          ]
        },
        {
          "output_type": "stream",
          "name": "stderr",
          "text": [
            " 74%|███████▍  | 7401/10000 [1:01:18<3:19:19,  4.60s/it]"
          ]
        },
        {
          "output_type": "stream",
          "name": "stdout",
          "text": [
            "Step: 7400 Loss (unaveraged): -0.9543 Loss (averaged): -4.2487\n"
          ]
        },
        {
          "output_type": "stream",
          "name": "stderr",
          "text": [
            " 75%|███████▌  | 7501/10000 [1:02:08<3:12:19,  4.62s/it]"
          ]
        },
        {
          "output_type": "stream",
          "name": "stdout",
          "text": [
            "Step: 7500 Loss (unaveraged): -0.7043 Loss (averaged): -4.6949\n"
          ]
        },
        {
          "output_type": "stream",
          "name": "stderr",
          "text": [
            " 76%|███████▌  | 7601/10000 [1:02:58<3:04:18,  4.61s/it]"
          ]
        },
        {
          "output_type": "stream",
          "name": "stdout",
          "text": [
            "Step: 7600 Loss (unaveraged): -0.1207 Loss (averaged): -4.2286\n"
          ]
        },
        {
          "output_type": "stream",
          "name": "stderr",
          "text": [
            " 77%|███████▋  | 7701/10000 [1:03:49<2:59:57,  4.70s/it]"
          ]
        },
        {
          "output_type": "stream",
          "name": "stdout",
          "text": [
            "Step: 7700 Loss (unaveraged): -0.3045 Loss (averaged): -4.7884\n"
          ]
        },
        {
          "output_type": "stream",
          "name": "stderr",
          "text": [
            " 78%|███████▊  | 7801/10000 [1:04:39<2:50:46,  4.66s/it]"
          ]
        },
        {
          "output_type": "stream",
          "name": "stdout",
          "text": [
            "Step: 7800 Loss (unaveraged): -0.1694 Loss (averaged): -4.5056\n"
          ]
        },
        {
          "output_type": "stream",
          "name": "stderr",
          "text": [
            " 79%|███████▉  | 7901/10000 [1:05:30<2:42:32,  4.65s/it]"
          ]
        },
        {
          "output_type": "stream",
          "name": "stdout",
          "text": [
            "Step: 7900 Loss (unaveraged): -0.1453 Loss (averaged): -3.9316\n"
          ]
        },
        {
          "output_type": "stream",
          "name": "stderr",
          "text": [
            " 80%|████████  | 8001/10000 [1:06:20<2:34:51,  4.65s/it]"
          ]
        },
        {
          "output_type": "stream",
          "name": "stdout",
          "text": [
            "Step: 8000 Loss (unaveraged): 0.3099 Loss (averaged): -4.2704\n"
          ]
        },
        {
          "output_type": "stream",
          "name": "stderr",
          "text": [
            " 81%|████████  | 8101/10000 [1:07:11<2:26:28,  4.63s/it]"
          ]
        },
        {
          "output_type": "stream",
          "name": "stdout",
          "text": [
            "Step: 8100 Loss (unaveraged): 0.4575 Loss (averaged): -3.9790\n"
          ]
        },
        {
          "output_type": "stream",
          "name": "stderr",
          "text": [
            " 82%|████████▏ | 8201/10000 [1:08:01<2:18:22,  4.61s/it]"
          ]
        },
        {
          "output_type": "stream",
          "name": "stdout",
          "text": [
            "Step: 8200 Loss (unaveraged): 0.2581 Loss (averaged): -4.1033\n"
          ]
        },
        {
          "output_type": "stream",
          "name": "stderr",
          "text": [
            " 83%|████████▎ | 8301/10000 [1:08:51<2:11:11,  4.63s/it]"
          ]
        },
        {
          "output_type": "stream",
          "name": "stdout",
          "text": [
            "Step: 8300 Loss (unaveraged): 0.8076 Loss (averaged): -3.7152\n"
          ]
        },
        {
          "output_type": "stream",
          "name": "stderr",
          "text": [
            " 84%|████████▍ | 8401/10000 [1:09:41<2:02:58,  4.61s/it]"
          ]
        },
        {
          "output_type": "stream",
          "name": "stdout",
          "text": [
            "Step: 8400 Loss (unaveraged): 0.7566 Loss (averaged): -4.1898\n"
          ]
        },
        {
          "output_type": "stream",
          "name": "stderr",
          "text": [
            " 85%|████████▌ | 8501/10000 [1:10:32<1:56:07,  4.65s/it]"
          ]
        },
        {
          "output_type": "stream",
          "name": "stdout",
          "text": [
            "Step: 8500 Loss (unaveraged): 1.0377 Loss (averaged): -3.9942\n"
          ]
        },
        {
          "output_type": "stream",
          "name": "stderr",
          "text": [
            " 86%|████████▌ | 8601/10000 [1:11:22<1:48:51,  4.67s/it]"
          ]
        },
        {
          "output_type": "stream",
          "name": "stdout",
          "text": [
            "Step: 8600 Loss (unaveraged): 1.0151 Loss (averaged): -3.5903\n"
          ]
        },
        {
          "output_type": "stream",
          "name": "stderr",
          "text": [
            " 87%|████████▋ | 8701/10000 [1:12:12<1:39:51,  4.61s/it]"
          ]
        },
        {
          "output_type": "stream",
          "name": "stdout",
          "text": [
            "Step: 8700 Loss (unaveraged): 1.3207 Loss (averaged): -3.5482\n"
          ]
        },
        {
          "output_type": "stream",
          "name": "stderr",
          "text": [
            " 88%|████████▊ | 8801/10000 [1:13:02<1:32:32,  4.63s/it]"
          ]
        },
        {
          "output_type": "stream",
          "name": "stdout",
          "text": [
            "Step: 8800 Loss (unaveraged): 1.5656 Loss (averaged): -3.8099\n"
          ]
        },
        {
          "output_type": "stream",
          "name": "stderr",
          "text": [
            " 89%|████████▉ | 8901/10000 [1:13:53<1:24:44,  4.63s/it]"
          ]
        },
        {
          "output_type": "stream",
          "name": "stdout",
          "text": [
            "Step: 8900 Loss (unaveraged): 1.4457 Loss (averaged): -3.5744\n"
          ]
        },
        {
          "output_type": "stream",
          "name": "stderr",
          "text": [
            " 90%|█████████ | 9001/10000 [1:14:43<1:17:22,  4.65s/it]"
          ]
        },
        {
          "output_type": "stream",
          "name": "stdout",
          "text": [
            "Step: 9000 Loss (unaveraged): 1.7529 Loss (averaged): -3.7562\n"
          ]
        },
        {
          "output_type": "stream",
          "name": "stderr",
          "text": [
            " 91%|█████████ | 9101/10000 [1:15:34<1:10:58,  4.74s/it]"
          ]
        },
        {
          "output_type": "stream",
          "name": "stdout",
          "text": [
            "Step: 9100 Loss (unaveraged): 1.9089 Loss (averaged): -3.5946\n"
          ]
        },
        {
          "output_type": "stream",
          "name": "stderr",
          "text": [
            " 92%|█████████▏| 9201/10000 [1:16:24<1:01:44,  4.64s/it]"
          ]
        },
        {
          "output_type": "stream",
          "name": "stdout",
          "text": [
            "Step: 9200 Loss (unaveraged): 2.1500 Loss (averaged): -3.6736\n"
          ]
        },
        {
          "output_type": "stream",
          "name": "stderr",
          "text": [
            " 93%|█████████▎| 9301/10000 [1:17:15<54:05,  4.64s/it]"
          ]
        },
        {
          "output_type": "stream",
          "name": "stdout",
          "text": [
            "Step: 9300 Loss (unaveraged): 2.3737 Loss (averaged): -3.3655\n"
          ]
        },
        {
          "output_type": "stream",
          "name": "stderr",
          "text": [
            " 94%|█████████▍| 9401/10000 [1:18:05<46:31,  4.66s/it]"
          ]
        },
        {
          "output_type": "stream",
          "name": "stdout",
          "text": [
            "Step: 9400 Loss (unaveraged): 2.4619 Loss (averaged): -3.3888\n"
          ]
        },
        {
          "output_type": "stream",
          "name": "stderr",
          "text": [
            " 95%|█████████▌| 9501/10000 [1:18:56<38:37,  4.64s/it]"
          ]
        },
        {
          "output_type": "stream",
          "name": "stdout",
          "text": [
            "Step: 9500 Loss (unaveraged): 2.5894 Loss (averaged): -3.2324\n"
          ]
        },
        {
          "output_type": "stream",
          "name": "stderr",
          "text": [
            " 96%|█████████▌| 9601/10000 [1:19:46<30:32,  4.59s/it]"
          ]
        },
        {
          "output_type": "stream",
          "name": "stdout",
          "text": [
            "Step: 9600 Loss (unaveraged): 3.1199 Loss (averaged): -3.5873\n"
          ]
        },
        {
          "output_type": "stream",
          "name": "stderr",
          "text": [
            " 97%|█████████▋| 9701/10000 [1:20:36<23:02,  4.62s/it]"
          ]
        },
        {
          "output_type": "stream",
          "name": "stdout",
          "text": [
            "Step: 9700 Loss (unaveraged): 2.9944 Loss (averaged): -3.4426\n"
          ]
        },
        {
          "output_type": "stream",
          "name": "stderr",
          "text": [
            " 98%|█████████▊| 9801/10000 [1:21:26<15:24,  4.64s/it]"
          ]
        },
        {
          "output_type": "stream",
          "name": "stdout",
          "text": [
            "Step: 9800 Loss (unaveraged): 3.3201 Loss (averaged): -3.2191\n"
          ]
        },
        {
          "output_type": "stream",
          "name": "stderr",
          "text": [
            " 99%|█████████▉| 9901/10000 [1:22:16<07:38,  4.63s/it]"
          ]
        },
        {
          "output_type": "stream",
          "name": "stdout",
          "text": [
            "Step: 9900 Loss (unaveraged): 3.3700 Loss (averaged): -3.0802\n"
          ]
        },
        {
          "output_type": "stream",
          "name": "stderr",
          "text": [
            "100%|██████████| 10000/10000 [1:23:06<00:00,  2.01it/s]"
          ]
        },
        {
          "output_type": "stream",
          "name": "stdout",
          "text": [
            "Step: 9999 Loss (unaveraged): 3.2106 Loss (averaged): -3.3392\n"
          ]
        },
        {
          "output_type": "stream",
          "name": "stderr",
          "text": [
            "\n"
          ]
        },
        {
          "output_type": "execute_result",
          "data": {
            "text/plain": [
              "<All keys matched successfully>"
            ]
          },
          "metadata": {},
          "execution_count": 13
        }
      ]
    },
    {
      "cell_type": "code",
      "source": [
        "plt.figure(figsize=(12,8))\n",
        "plt.plot(loss_list,color= 'midnightblue', linewidth =3)\n",
        "plt.xlabel('training step',fontsize=14)\n",
        "plt.xlabel('Loss: discriminator(generated_samples) - discriminator(real_samples)'\n",
        ",fontsize=13)\n",
        "# plt.title('GAN Training Loss (running avg.)', fontsize = 16)\n",
        "plt.show();"
      ],
      "metadata": {
        "id": "O-jb8krfNZCW",
        "colab": {
          "base_uri": "https://localhost:8080/",
          "height": 520
        },
        "outputId": "2c31674b-7e5e-4a0f-a499-f9bf690c9119"
      },
      "id": "O-jb8krfNZCW",
      "execution_count": null,
      "outputs": [
        {
          "output_type": "display_data",
          "data": {
            "text/plain": [
              "<Figure size 864x576 with 1 Axes>"
            ],
            "image/png": "[encoded data removed]"
          },
          "metadata": {
            "needs_background": "light"
          }
        }
      ]
    },
    {
      "cell_type": "code",
      "source": [
        "# save trained generator\n",
        "torch.save(averaged_generator.state_dict(), '/content/drive/MyDrive/torchsde/train_on_S&P/gan_generator_model')\n",
        "\n"
      ],
      "metadata": {
        "id": "JeuZTWLMIoO3"
      },
      "id": "JeuZTWLMIoO3",
      "execution_count": null,
      "outputs": []
    },
    {
      "cell_type": "code",
      "source": [
        "#Later to restore:\n",
        "is_cuda = torch.cuda.is_available()\n",
        "device = 'cuda' if is_cuda else 'cpu'\n",
        "if not is_cuda:\n",
        "    print(\"Warning: CUDA not available; falling back to CPU but this is likely to be very slow.\")\n",
        "# Data\n",
        "ts, data_size, train_dataloader = get_historical_data(batch_size=batch_size, device=device)\n",
        "infinite_train_dataloader = (elem for it in iter(lambda: train_dataloader, None) for elem in it)\n",
        "generator = Generator(data_size, initial_noise_size, noise_size, hidden_size, mlp_size, num_layers).to(device)\n",
        "averaged_generator = swa_utils.AveragedModel(generator)\n",
        "averaged_generator.load_state_dict(torch.load('/content/drive/MyDrive/torchsde/train_on_S&P/gan_generator_model'))\n",
        "averaged_generator.eval()"
      ],
      "metadata": {
        "colab": {
          "base_uri": "https://localhost:8080/"
        },
        "id": "fHgE6tpX7CDi",
        "outputId": "717265ef-5756-4f97-e5e7-e36ed3059160"
      },
      "id": "fHgE6tpX7CDi",
      "execution_count": null,
      "outputs": [
        {
          "output_type": "execute_result",
          "data": {
            "text/plain": [
              "AveragedModel(\n",
              "  (module): Generator(\n",
              "    (_initial): MLP(\n",
              "      (_model): Sequential(\n",
              "        (0): Linear(in_features=5, out_features=16, bias=True)\n",
              "        (1): LipSwish()\n",
              "        (2): Linear(in_features=16, out_features=16, bias=True)\n",
              "        (3): LipSwish()\n",
              "        (4): Linear(in_features=16, out_features=16, bias=True)\n",
              "      )\n",
              "    )\n",
              "    (_func): GeneratorFunc(\n",
              "      (_drift): MLP(\n",
              "        (_model): Sequential(\n",
              "          (0): Linear(in_features=17, out_features=16, bias=True)\n",
              "          (1): LipSwish()\n",
              "          (2): Linear(in_features=16, out_features=16, bias=True)\n",
              "          (3): LipSwish()\n",
              "          (4): Linear(in_features=16, out_features=16, bias=True)\n",
              "          (5): Tanh()\n",
              "        )\n",
              "      )\n",
              "      (_diffusion): MLP(\n",
              "        (_model): Sequential(\n",
              "          (0): Linear(in_features=17, out_features=16, bias=True)\n",
              "          (1): LipSwish()\n",
              "          (2): Linear(in_features=16, out_features=16, bias=True)\n",
              "          (3): LipSwish()\n",
              "          (4): Linear(in_features=16, out_features=48, bias=True)\n",
              "          (5): Tanh()\n",
              "        )\n",
              "      )\n",
              "    )\n",
              "    (_readout): Linear(in_features=16, out_features=1, bias=True)\n",
              "  )\n",
              ")"
            ]
          },
          "metadata": {},
          "execution_count": 27
        }
      ]
    },
    {
      "cell_type": "code",
      "source": [
        "with open('SP_all_daily_30day_stock_array.pkl', 'rb') as f:\n",
        "  stock_array = pickle.load(f)\n",
        "stock_array = stock_array.astype(np.float32)\n",
        "return_array = np.zeros((stock_array.shape[0],stock_array.shape[1]-1))\n",
        "for row in range(return_array.shape[0]):\n",
        "  return_array[row,:] = np.diff(np.log(stock_array[row,:]))\n",
        "\n",
        "return_array = return_array.astype(np.float32)"
      ],
      "metadata": {
        "id": "9HU_P8yGMXRs"
      },
      "id": "9HU_P8yGMXRs",
      "execution_count": null,
      "outputs": []
    },
    {
      "cell_type": "code",
      "source": [
        "idx = np.random.randint(stock_array.shape[0], size =500)\n",
        "\n",
        "real_samples = return_array[idx,:]\n",
        "\n",
        "\n",
        "t_size = stock_array.shape[1]\n",
        "\n",
        "ts = torch.linspace(0, t_size - 1, t_size, device=device)\n",
        "\n",
        "with torch.no_grad():\n",
        "    # generated_samples = generator(ts, return_array.shape[0]).cpu()\n",
        "    generated_samples = averaged_generator(ts, 100000).cpu()\n",
        "generated_samples = torchcde.LinearInterpolation(generated_samples).evaluate(ts)\n",
        "generated_samples = generated_samples[..., 1]\n",
        "\n"
      ],
      "metadata": {
        "id": "L8KpiOsQxqQF"
      },
      "id": "L8KpiOsQxqQF",
      "execution_count": null,
      "outputs": []
    },
    {
      "cell_type": "code",
      "source": [
        "generated_samples_np = generated_samples.cpu().detach().numpy()\n",
        "generated_samples_np.shape"
      ],
      "metadata": {
        "colab": {
          "base_uri": "https://localhost:8080/"
        },
        "id": "khyItQbE--0N",
        "outputId": "39177b90-b413-40e1-ddc0-f312091d68c8"
      },
      "id": "khyItQbE--0N",
      "execution_count": null,
      "outputs": [
        {
          "output_type": "execute_result",
          "data": {
            "text/plain": [
              "(100000, 30)"
            ]
          },
          "metadata": {},
          "execution_count": 36
        }
      ]
    },
    {
      "cell_type": "code",
      "source": [
        "# Plot some sample paths\n",
        "num_paths = 1000\n",
        "real_samples = return_array[np.random.randint(return_array.shape[0], size=num_paths), :]\n",
        "real_samples = np.append(np.zeros((real_samples.shape[0],1)), real_samples, axis=1)\n",
        "synth_samples = generated_samples_np[np.random.randint(generated_samples_np.shape[0], size=num_paths), :]"
      ],
      "metadata": {
        "id": "x2QUEbwf_Fi5"
      },
      "id": "x2QUEbwf_Fi5",
      "execution_count": null,
      "outputs": []
    },
    {
      "cell_type": "code",
      "source": [
        "real_samples.shape, synth_samples.shape"
      ],
      "metadata": {
        "colab": {
          "base_uri": "https://localhost:8080/"
        },
        "id": "7WMV05-r_Fmb",
        "outputId": "e42203d9-97c9-4877-fc7b-f6a8533944c9"
      },
      "id": "7WMV05-r_Fmb",
      "execution_count": null,
      "outputs": [
        {
          "output_type": "execute_result",
          "data": {
            "text/plain": [
              "((1000, 30), (1000, 30))"
            ]
          },
          "metadata": {},
          "execution_count": 38
        }
      ]
    },
    {
      "cell_type": "code",
      "source": [
        "# Plot samples\n",
        "xs = np.arange(real_samples.shape[1])\n",
        "plt.figure(figsize=(12,6))\n",
        "for row in range(real_samples.shape[0]):\n",
        "    plt.plot(xs, real_samples[row,:], color='orange', linewidth=0.2, alpha=0.9, label = 'Real paths')\n",
        "\n",
        "for row in range(synth_samples.shape[0]):\n",
        "    plt.plot(xs, synth_samples[row,:]/50, color='midnightblue', linewidth=0.1, alpha=0.7, label = 'Synthetic paths')\n",
        "\n",
        "handles, labels = plt.gca().get_legend_handles_labels()\n",
        "by_label = dict(zip(labels, handles))\n",
        "leg = plt.legend(by_label.values(), by_label.keys(), fontsize = 14, loc = 'lower left')\n",
        "# set the linewidth of each legend object\n",
        "for legobj in leg.legendHandles:\n",
        "    legobj.set_linewidth(2.0)\n",
        "#plt.title(\" Sample real paths vs. synthetic paths (log-return)\", fontsize = 16)\n",
        "plt.xticks(np.arange(min(xs), max(xs)+1, 1.0))\n",
        "plt.show()\n"
      ],
      "metadata": {
        "colab": {
          "base_uri": "https://localhost:8080/",
          "height": 394
        },
        "id": "GYJe8E4A_FqE",
        "outputId": "274f9e36-208d-4305-c1d6-522be5e06c7b"
      },
      "id": "GYJe8E4A_FqE",
      "execution_count": null,
      "outputs": [
        {
          "output_type": "display_data",
          "data": {
            "text/plain": [
              "<Figure size 864x432 with 1 Axes>"
            ],
            "image/png": "[encoded data removed]"
          },
          "metadata": {
            "needs_background": "light"
          }
        }
      ]
    },
    {
      "cell_type": "code",
      "source": [
        "# with open('generated_SP_log_return_paths_100k.pickle', 'wb') as handle:\n",
        "#     pickle.dump(generated_samples, handle)\n"
      ],
      "metadata": {
        "id": "p9XQpWnAUO0-"
      },
      "id": "p9XQpWnAUO0-",
      "execution_count": null,
      "outputs": []
    }
  ],
  "metadata": {
    "kernelspec": {
      "display_name": "Python 3 (ipykernel)",
      "language": "python",
      "name": "python3"
    },
    "language_info": {
      "codemirror_mode": {
        "name": "ipython",
        "version": 3
      },
      "file_extension": ".py",
      "mimetype": "text/x-python",
      "name": "python",
      "nbconvert_exporter": "python",
      "pygments_lexer": "ipython3",
      "version": "3.10.6"
    },
    "colab": {
      "provenance": [],
      "machine_shape": "hm",
      "gpuClass": "premium",
      "include_colab_link": true
    },
    "accelerator": "GPU",
    "gpuClass": "premium"
  },
  "nbformat": 4,
  "nbformat_minor": 5
}